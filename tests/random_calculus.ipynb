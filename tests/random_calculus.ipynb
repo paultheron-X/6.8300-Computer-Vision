{
 "cells": [
  {
   "cell_type": "code",
   "execution_count": 1,
   "metadata": {},
   "outputs": [],
   "source": [
    "from math import log10"
   ]
  },
  {
   "cell_type": "code",
   "execution_count": 5,
   "metadata": {},
   "outputs": [],
   "source": [
    "def get_psnr(mse):\n",
    "    return 10 * log10(1/mse)\n",
    "\n",
    "def get_mse_from_psnr(psnr):\n",
    "    return 1/(10**(psnr/10))\n",
    "\n",
    "print(get_psnr(0.01))\n",
    "\n",
    "print(get_mse_from_psnr(20))"
   ]
  },
  {
   "cell_type": "code",
   "execution_count": 8,
   "metadata": {},
   "outputs": [
    {
     "name": "stdout",
     "output_type": "stream",
     "text": [
      "0.0025703957827688645\n"
     ]
    }
   ],
   "source": [
    "print(get_mse_from_psnr(25.90))"
   ]
  },
  {
   "cell_type": "code",
   "execution_count": 11,
   "metadata": {},
   "outputs": [
    {
     "name": "stdout",
     "output_type": "stream",
     "text": [
      "0.0008433347577642758\n"
     ]
    }
   ],
   "source": [
    "print(get_mse_from_psnr(30.74))"
   ]
  }
 ],
 "metadata": {
  "kernelspec": {
   "display_name": "computer_vision",
   "language": "python",
   "name": "python3"
  },
  "language_info": {
   "codemirror_mode": {
    "name": "ipython",
    "version": 3
   },
   "file_extension": ".py",
   "mimetype": "text/x-python",
   "name": "python",
   "nbconvert_exporter": "python",
   "pygments_lexer": "ipython3",
   "version": "3.9.16"
  },
  "orig_nbformat": 4
 },
 "nbformat": 4,
 "nbformat_minor": 2
}
