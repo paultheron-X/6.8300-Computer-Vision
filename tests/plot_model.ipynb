{
 "cells": [
  {
   "cell_type": "code",
   "execution_count": null,
   "metadata": {},
   "outputs": [],
   "source": [
    "import graphviz\n",
    "import sys\n",
    "sys.path.append('/Data/reds_dataset/6.8300-Computer-Vision/src')\n",
    "from time import time\n",
    "from models import basicVSR\n",
    "\n",
    "\n",
    "import torchvision\n",
    "from torchview import draw_graph\n",
    "\n",
    "model_graph = draw_graph(basicVSR(), input_size=(1,16,3,64,64), expand_nested=True, depth = 5,  roll=True)#, save_graph=True)\n"
   ]
  },
  {
   "cell_type": "code",
   "execution_count": 5,
   "metadata": {},
   "outputs": [
    {
     "ename": "AttributeError",
     "evalue": "'ComputationGraph' object has no attribute 'save'",
     "output_type": "error",
     "traceback": [
      "\u001b[0;31m---------------------------------------------------------------------------\u001b[0m",
      "\u001b[0;31mAttributeError\u001b[0m                            Traceback (most recent call last)",
      "Cell \u001b[0;32mIn[5], line 2\u001b[0m\n\u001b[1;32m      1\u001b[0m \u001b[39m# save the graph in pdf format\u001b[39;00m\n\u001b[0;32m----> 2\u001b[0m model_graph\u001b[39m.\u001b[39;49msave(\u001b[39m'\u001b[39m\u001b[39mmodel_graph.pdf\u001b[39m\u001b[39m'\u001b[39m)\n",
      "\u001b[0;31mAttributeError\u001b[0m: 'ComputationGraph' object has no attribute 'save'"
     ]
    }
   ],
   "source": [
    "# save the graph in pdf format\n",
    "model_graph."
   ]
  }
 ],
 "metadata": {
  "kernelspec": {
   "display_name": "computer_vision",
   "language": "python",
   "name": "python3"
  },
  "language_info": {
   "codemirror_mode": {
    "name": "ipython",
    "version": 3
   },
   "file_extension": ".py",
   "mimetype": "text/x-python",
   "name": "python",
   "nbconvert_exporter": "python",
   "pygments_lexer": "ipython3",
   "version": "3.9.16"
  },
  "orig_nbformat": 4
 },
 "nbformat": 4,
 "nbformat_minor": 2
}
