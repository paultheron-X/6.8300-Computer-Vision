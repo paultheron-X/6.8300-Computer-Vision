{
 "cells": [
  {
   "cell_type": "code",
   "execution_count": 30,
   "metadata": {},
   "outputs": [],
   "source": [
    "from torchvision.io import read_image\n",
    "from time import time\n",
    "\n",
    "tens = read_image('/Data/reds_dataset/6.8300-Computer-Vision/data/raw/train_orig/000/00000001.png')\n",
    "tens\n",
    "\n",
    "# save this tensor as a png\n",
    "from torchvision.utils import save_image\n",
    "save_image(tens/255, 'test.png')"
   ]
  },
  {
   "cell_type": "code",
   "execution_count": 31,
   "metadata": {},
   "outputs": [
    {
     "data": {
      "text/plain": [
       "tensor([[[220, 220, 220,  ...,  56,  46,  42],\n",
       "         [220, 220, 220,  ...,  65,  48,  31],\n",
       "         [219, 219, 219,  ...,  55,  36,  41],\n",
       "         ...,\n",
       "         [  6,   6,   6,  ..., 101, 100,  91],\n",
       "         [  6,   6,   6,  ...,  99, 104,  92],\n",
       "         [  6,   6,   6,  ..., 103, 110,  96]],\n",
       "\n",
       "        [[237, 237, 237,  ...,  62,  52,  48],\n",
       "         [237, 237, 237,  ...,  71,  54,  37],\n",
       "         [236, 236, 236,  ...,  61,  42,  47],\n",
       "         ...,\n",
       "         [  7,   7,   7,  ..., 106, 105,  95],\n",
       "         [  7,   7,   7,  ..., 102, 106,  94],\n",
       "         [  7,   7,   7,  ..., 104, 111,  97]],\n",
       "\n",
       "        [[253, 253, 253,  ...,  53,  43,  39],\n",
       "         [253, 253, 253,  ...,  62,  45,  28],\n",
       "         [252, 252, 252,  ...,  52,  33,  38],\n",
       "         ...,\n",
       "         [  9,   9,   9,  ...,  51,  49,  40],\n",
       "         [  9,   9,   9,  ...,  47,  51,  39],\n",
       "         [  9,   9,   9,  ...,  49,  56,  42]]], dtype=torch.uint8)"
      ]
     },
     "execution_count": 31,
     "metadata": {},
     "output_type": "execute_result"
    }
   ],
   "source": [
    "read_image('test.png')\n"
   ]
  },
  {
   "cell_type": "code",
   "execution_count": 27,
   "metadata": {},
   "outputs": [
    {
     "data": {
      "text/plain": [
       "tensor([[[221, 221, 221,  ...,  43,  50,  41],\n",
       "         [221, 221, 221,  ...,  53,  41,  36],\n",
       "         [220, 220, 220,  ...,  56,  35,  35],\n",
       "         ...,\n",
       "         [  6,   6,   6,  ..., 107, 103,  81],\n",
       "         [  6,   6,   6,  ..., 112, 108,  84],\n",
       "         [  6,   6,   6,  ..., 112, 112,  88]],\n",
       "\n",
       "        [[238, 238, 238,  ...,  49,  56,  47],\n",
       "         [238, 238, 238,  ...,  59,  47,  42],\n",
       "         [237, 237, 237,  ...,  62,  41,  41],\n",
       "         ...,\n",
       "         [  7,   7,   7,  ..., 110, 106,  84],\n",
       "         [  7,   7,   7,  ..., 113, 109,  85],\n",
       "         [  7,   7,   7,  ..., 113, 113,  89]],\n",
       "\n",
       "        [[254, 254, 254,  ...,  40,  47,  38],\n",
       "         [254, 254, 254,  ...,  50,  38,  33],\n",
       "         [253, 253, 253,  ...,  53,  32,  32],\n",
       "         ...,\n",
       "         [  9,   9,   9,  ...,  54,  49,  28],\n",
       "         [  9,   9,   9,  ...,  57,  53,  29],\n",
       "         [  9,   9,   9,  ...,  57,  57,  33]]], dtype=torch.uint8)"
      ]
     },
     "execution_count": 27,
     "metadata": {},
     "output_type": "execute_result"
    }
   ],
   "source": [
    "tens = read_image('/Data/reds_dataset/6.8300-Computer-Vision/data/processed/fimg/000/frame_0000.png')\n",
    "tens"
   ]
  },
  {
   "cell_type": "code",
   "execution_count": 24,
   "metadata": {},
   "outputs": [
    {
     "name": "stdout",
     "output_type": "stream",
     "text": [
      "(3, 720, 1280)\n"
     ]
    },
    {
     "data": {
      "text/plain": [
       "array([[[253, 253, 253, ...,  53,  43,  39],\n",
       "        [253, 253, 253, ...,  62,  45,  28],\n",
       "        [252, 252, 252, ...,  52,  33,  38],\n",
       "        ...,\n",
       "        [  9,   9,   9, ...,  51,  49,  40],\n",
       "        [  9,   9,   9, ...,  47,  51,  39],\n",
       "        [  9,   9,   9, ...,  49,  56,  42]],\n",
       "\n",
       "       [[237, 237, 237, ...,  62,  52,  48],\n",
       "        [237, 237, 237, ...,  71,  54,  37],\n",
       "        [236, 236, 236, ...,  61,  42,  47],\n",
       "        ...,\n",
       "        [  7,   7,   7, ..., 106, 105,  95],\n",
       "        [  7,   7,   7, ..., 102, 106,  94],\n",
       "        [  7,   7,   7, ..., 104, 111,  97]],\n",
       "\n",
       "       [[220, 220, 220, ...,  56,  46,  42],\n",
       "        [220, 220, 220, ...,  65,  48,  31],\n",
       "        [219, 219, 219, ...,  55,  36,  41],\n",
       "        ...,\n",
       "        [  6,   6,   6, ..., 101, 100,  91],\n",
       "        [  6,   6,   6, ...,  99, 104,  92],\n",
       "        [  6,   6,   6, ..., 103, 110,  96]]], dtype=uint8)"
      ]
     },
     "execution_count": 24,
     "metadata": {},
     "output_type": "execute_result"
    }
   ],
   "source": [
    "import cv2\n",
    "\n",
    "img = cv2.imread('/Data/reds_dataset/6.8300-Computer-Vision/data/raw/train_orig/000/00000001.png')\n",
    "img.shape\n",
    "# transpose img to be (C, H, W)\n",
    "img = img.transpose(2, 0, 1)\n",
    "print(img.shape)\n",
    "img"
   ]
  },
  {
   "cell_type": "code",
   "execution_count": 23,
   "metadata": {},
   "outputs": [
    {
     "data": {
      "text/plain": [
       "array([[[253, 253, 253, ...,  53,  43,  39],\n",
       "        [253, 253, 253, ...,  62,  45,  28],\n",
       "        [252, 252, 252, ...,  52,  33,  38],\n",
       "        ...,\n",
       "        [  9,   9,   9, ...,  51,  49,  40],\n",
       "        [  9,   9,   9, ...,  47,  51,  39],\n",
       "        [  9,   9,   9, ...,  49,  56,  42]],\n",
       "\n",
       "       [[237, 237, 237, ...,  62,  52,  48],\n",
       "        [237, 237, 237, ...,  71,  54,  37],\n",
       "        [236, 236, 236, ...,  61,  42,  47],\n",
       "        ...,\n",
       "        [  7,   7,   7, ..., 106, 105,  95],\n",
       "        [  7,   7,   7, ..., 102, 106,  94],\n",
       "        [  7,   7,   7, ..., 104, 111,  97]],\n",
       "\n",
       "       [[220, 220, 220, ...,  56,  46,  42],\n",
       "        [220, 220, 220, ...,  65,  48,  31],\n",
       "        [219, 219, 219, ...,  55,  36,  41],\n",
       "        ...,\n",
       "        [  6,   6,   6, ..., 101, 100,  91],\n",
       "        [  6,   6,   6, ...,  99, 104,  92],\n",
       "        [  6,   6,   6, ..., 103, 110,  96]]], dtype=uint8)"
      ]
     },
     "execution_count": 23,
     "metadata": {},
     "output_type": "execute_result"
    }
   ],
   "source": [
    "# transpose img to be (C, H, W)\n",
    "img = img.transpose(2, 0, 1)\n",
    "img.shape\n",
    "img"
   ]
  }
 ],
 "metadata": {
  "kernelspec": {
   "display_name": "computer_vision",
   "language": "python",
   "name": "python3"
  },
  "language_info": {
   "codemirror_mode": {
    "name": "ipython",
    "version": 3
   },
   "file_extension": ".py",
   "mimetype": "text/x-python",
   "name": "python",
   "nbconvert_exporter": "python",
   "pygments_lexer": "ipython3",
   "version": "3.9.16"
  },
  "orig_nbformat": 4
 },
 "nbformat": 4,
 "nbformat_minor": 2
}
