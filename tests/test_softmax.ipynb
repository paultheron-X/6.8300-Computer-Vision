{
 "cells": [
  {
   "cell_type": "code",
   "execution_count": 1,
   "metadata": {},
   "outputs": [],
   "source": [
    "import torch"
   ]
  },
  {
   "cell_type": "code",
   "execution_count": 11,
   "metadata": {},
   "outputs": [
    {
     "data": {
      "text/plain": [
       "tensor([[[[0.5000, 0.5000, 0.5000, 0.5000],\n",
       "          [0.5000, 0.5000, 0.5000, 0.5000],\n",
       "          [0.5000, 0.5000, 0.5000, 0.5000],\n",
       "          [0.5000, 0.5000, 0.5000, 0.5000]],\n",
       "\n",
       "         [[0.5000, 0.5000, 0.5000, 0.5000],\n",
       "          [0.5000, 0.5000, 0.5000, 0.5000],\n",
       "          [0.5000, 0.5000, 0.5000, 0.5000],\n",
       "          [0.5000, 0.5000, 0.5000, 0.5000]]],\n",
       "\n",
       "\n",
       "        [[[0.5000, 0.5000, 0.5000, 0.5000],\n",
       "          [0.5000, 0.5000, 0.5000, 0.5000],\n",
       "          [0.5000, 0.5000, 0.5000, 0.5000],\n",
       "          [0.5000, 0.5000, 0.5000, 0.5000]],\n",
       "\n",
       "         [[0.5000, 0.5000, 0.5000, 0.5000],\n",
       "          [0.5000, 0.5000, 0.5000, 0.5000],\n",
       "          [0.5000, 0.5000, 0.5000, 0.5000],\n",
       "          [0.5000, 0.5000, 0.5000, 0.5000]]],\n",
       "\n",
       "\n",
       "        [[[0.5000, 0.5000, 0.5000, 0.5000],\n",
       "          [0.5000, 0.5000, 0.5000, 0.5000],\n",
       "          [0.5000, 0.5000, 0.5000, 0.5000],\n",
       "          [0.5000, 0.5000, 0.5000, 0.5000]],\n",
       "\n",
       "         [[0.5000, 0.5000, 0.5000, 0.5000],\n",
       "          [0.5000, 0.5000, 0.5000, 0.5000],\n",
       "          [0.5000, 0.5000, 0.5000, 0.5000],\n",
       "          [0.5000, 0.5000, 0.5000, 0.5000]]]])"
      ]
     },
     "execution_count": 11,
     "metadata": {},
     "output_type": "execute_result"
    }
   ],
   "source": [
    "# random tensor of shape (3, channels, height, width)\n",
    "# fill F with 0\n",
    "F = torch.zeros((3, 2, 4, 4))\n",
    "\n",
    "# I want to do the following calculation:\n",
    "# M_i(x,y)^j = \\frac{exp(F_i(x,y)^j)}{\\sum_{k=1}^3 exp(F_k(x,y)^j)} (as a softmax so with exp etc.)\n",
    "# where i is the channel index (dim 1), j is the spatial index (dim 0), and x,y are the spatial coordinates (dims 2,3)\n",
    "\n",
    "# I can do this with a for loop:\n",
    "M = torch.zeros_like(F)\n",
    "for j in range(F.shape[0]):\n",
    "    for i in range(F.shape[1]):\n",
    "        M[j,i,:,:] = torch.exp(F[j,i,:,:]) / torch.sum(torch.exp(F[j,:,:,:]), dim=0)\n",
    "\n",
    "M"
   ]
  },
  {
   "cell_type": "code",
   "execution_count": 15,
   "metadata": {},
   "outputs": [
    {
     "name": "stdout",
     "output_type": "stream",
     "text": [
      "torch.Size([2, 4, 4])\n",
      "tensor([[[[0.3333, 0.3333, 0.3333, 0.3333],\n",
      "          [0.3333, 0.3333, 0.3333, 0.3333],\n",
      "          [0.3333, 0.3333, 0.3333, 0.3333],\n",
      "          [0.3333, 0.3333, 0.3333, 0.3333]],\n",
      "\n",
      "         [[0.3333, 0.3333, 0.3333, 0.3333],\n",
      "          [0.3333, 0.3333, 0.3333, 0.3333],\n",
      "          [0.3333, 0.3333, 0.3333, 0.3333],\n",
      "          [0.3333, 0.3333, 0.3333, 0.3333]]],\n",
      "\n",
      "\n",
      "        [[[0.3333, 0.3333, 0.3333, 0.3333],\n",
      "          [0.3333, 0.3333, 0.3333, 0.3333],\n",
      "          [0.3333, 0.3333, 0.3333, 0.3333],\n",
      "          [0.3333, 0.3333, 0.3333, 0.3333]],\n",
      "\n",
      "         [[0.3333, 0.3333, 0.3333, 0.3333],\n",
      "          [0.3333, 0.3333, 0.3333, 0.3333],\n",
      "          [0.3333, 0.3333, 0.3333, 0.3333],\n",
      "          [0.3333, 0.3333, 0.3333, 0.3333]]],\n",
      "\n",
      "\n",
      "        [[[0.3333, 0.3333, 0.3333, 0.3333],\n",
      "          [0.3333, 0.3333, 0.3333, 0.3333],\n",
      "          [0.3333, 0.3333, 0.3333, 0.3333],\n",
      "          [0.3333, 0.3333, 0.3333, 0.3333]],\n",
      "\n",
      "         [[0.3333, 0.3333, 0.3333, 0.3333],\n",
      "          [0.3333, 0.3333, 0.3333, 0.3333],\n",
      "          [0.3333, 0.3333, 0.3333, 0.3333],\n",
      "          [0.3333, 0.3333, 0.3333, 0.3333]]]])\n"
     ]
    }
   ],
   "source": [
    "import torch\n",
    "\n",
    "# Apply exponential function to the tensor\n",
    "exp_F = torch.exp(F)\n",
    "\n",
    "# Calculate the sum along the channel dimension (dim 0)\n",
    "sum_exp_F = torch.sum(exp_F, dim=0)\n",
    "\n",
    "# Calculate M using element-wise division\n",
    "exp_F = torch.exp(F)\n",
    "M = exp_F / torch.sum(exp_F, dim=0).unsqueeze(0)\n",
    "\n",
    "# Print the result\n",
    "print(M)\n"
   ]
  },
  {
   "cell_type": "code",
   "execution_count": 20,
   "metadata": {},
   "outputs": [
    {
     "name": "stdout",
     "output_type": "stream",
     "text": [
      "Output tensor shape: torch.Size([16, 64, 1, 64, 64])\n"
     ]
    }
   ],
   "source": [
    "import torch\n",
    "import torch.nn as nn\n",
    "\n",
    "# Create a random input tensor of shape [16, 128, 3, 64, 64]\n",
    "input_tensor = torch.rand(16, 128, 3, 64, 64)\n",
    "\n",
    "# Define the Conv3D layer with the desired output shape\n",
    "conv3d_layer = nn.Conv3d(in_channels=128, out_channels=64, kernel_size=(3, 3, 3), stride=(1, 1, 1), padding=(0, 1, 1))\n",
    "\n",
    "# Apply the Conv3D layer to the input tensor\n",
    "output_tensor = conv3d_layer(input_tensor)\n",
    "\n",
    "# Check the output tensor shape\n",
    "print(\"Output tensor shape:\", output_tensor.shape)\n"
   ]
  }
 ],
 "metadata": {
  "kernelspec": {
   "display_name": "computer_vision",
   "language": "python",
   "name": "python3"
  },
  "language_info": {
   "codemirror_mode": {
    "name": "ipython",
    "version": 3
   },
   "file_extension": ".py",
   "mimetype": "text/x-python",
   "name": "python",
   "nbconvert_exporter": "python",
   "pygments_lexer": "ipython3",
   "version": "3.9.16"
  },
  "orig_nbformat": 4
 },
 "nbformat": 4,
 "nbformat_minor": 2
}
