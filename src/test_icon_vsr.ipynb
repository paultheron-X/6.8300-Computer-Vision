{
 "cells": [
  {
   "cell_type": "code",
   "execution_count": 2,
   "metadata": {},
   "outputs": [
    {
     "ename": "ModuleNotFoundError",
     "evalue": "No module named 'mmcv'",
     "output_type": "error",
     "traceback": [
      "\u001b[0;31m---------------------------------------------------------------------------\u001b[0m",
      "\u001b[0;31mModuleNotFoundError\u001b[0m                       Traceback (most recent call last)",
      "Cell \u001b[0;32mIn[2], line 16\u001b[0m\n\u001b[1;32m     13\u001b[0m sys\u001b[39m.\u001b[39mpath\u001b[39m.\u001b[39mappend(\u001b[39m'\u001b[39m\u001b[39m/Users/vchester/Documents/school/MBAn/6.8300/6.8300-Computer-Vision/src\u001b[39m\u001b[39m'\u001b[39m)\n\u001b[1;32m     15\u001b[0m \u001b[39mfrom\u001b[39;00m \u001b[39mdata_handlers\u001b[39;00m\u001b[39m.\u001b[39;00m\u001b[39mloading\u001b[39;00m \u001b[39mimport\u001b[39;00m VideoDataset\n\u001b[0;32m---> 16\u001b[0m \u001b[39mfrom\u001b[39;00m \u001b[39mmodels\u001b[39;00m \u001b[39mimport\u001b[39;00m iconVSR\n\u001b[1;32m     18\u001b[0m device \u001b[39m=\u001b[39m torch\u001b[39m.\u001b[39mdevice(\u001b[39m\"\u001b[39m\u001b[39mcuda\u001b[39m\u001b[39m\"\u001b[39m \u001b[39mif\u001b[39;00m torch\u001b[39m.\u001b[39mcuda\u001b[39m.\u001b[39mis_available() \u001b[39melse\u001b[39;00m \u001b[39m\"\u001b[39m\u001b[39mcpu\u001b[39m\u001b[39m\"\u001b[39m)\n\u001b[1;32m     20\u001b[0m logging\u001b[39m.\u001b[39minfo(\u001b[39m\"\u001b[39m\u001b[39mStarting main training script\u001b[39m\u001b[39m\"\u001b[39m)\n",
      "File \u001b[0;32m~/Documents/school/MBAn/6.8300/6.8300-Computer-Vision/src/models/__init__.py:1\u001b[0m\n\u001b[0;32m----> 1\u001b[0m \u001b[39mfrom\u001b[39;00m \u001b[39m.\u001b[39;00m\u001b[39mbasicVSR\u001b[39;00m \u001b[39mimport\u001b[39;00m basicVSR, BasicVSRPlusPlus, MultiStageBasicVSR, MultiStageBasicVSRAnalysis, MultiStageBasicVSRBN, MultiStageBasicMhead, iconVSR\n",
      "File \u001b[0;32m~/Documents/school/MBAn/6.8300/6.8300-Computer-Vision/src/models/basicVSR/__init__.py:2\u001b[0m\n\u001b[1;32m      1\u001b[0m \u001b[39mfrom\u001b[39;00m \u001b[39m.\u001b[39;00m\u001b[39mbasicvsr_model\u001b[39;00m \u001b[39mimport\u001b[39;00m basicVSR\n\u001b[0;32m----> 2\u001b[0m \u001b[39mfrom\u001b[39;00m \u001b[39m.\u001b[39;00m\u001b[39mbasicvsrpp_model\u001b[39;00m \u001b[39mimport\u001b[39;00m BasicVSRPlusPlus\n\u001b[1;32m      3\u001b[0m \u001b[39mfrom\u001b[39;00m \u001b[39m.\u001b[39;00m\u001b[39mbasicvsrattention_model\u001b[39;00m \u001b[39mimport\u001b[39;00m BasicVSRWithAttention\n\u001b[1;32m      4\u001b[0m \u001b[39mfrom\u001b[39;00m \u001b[39m.\u001b[39;00m\u001b[39mmultistagebasicvsr_model\u001b[39;00m \u001b[39mimport\u001b[39;00m MultiStageBasicVSR\n",
      "File \u001b[0;32m~/Documents/school/MBAn/6.8300/6.8300-Computer-Vision/src/models/basicVSR/basicvsrpp_model.py:6\u001b[0m\n\u001b[1;32m      3\u001b[0m \u001b[39mimport\u001b[39;00m \u001b[39mtorch\u001b[39;00m\u001b[39m.\u001b[39;00m\u001b[39mnn\u001b[39;00m \u001b[39mas\u001b[39;00m \u001b[39mnn\u001b[39;00m\n\u001b[1;32m      4\u001b[0m \u001b[39mimport\u001b[39;00m \u001b[39mtorch\u001b[39;00m\u001b[39m.\u001b[39;00m\u001b[39mnn\u001b[39;00m\u001b[39m.\u001b[39;00m\u001b[39mfunctional\u001b[39;00m \u001b[39mas\u001b[39;00m \u001b[39mF\u001b[39;00m\n\u001b[0;32m----> 6\u001b[0m \u001b[39mfrom\u001b[39;00m \u001b[39mmmcv\u001b[39;00m\u001b[39m.\u001b[39;00m\u001b[39mops\u001b[39;00m \u001b[39mimport\u001b[39;00m ModulatedDeformConv2d, modulated_deform_conv2d\n\u001b[1;32m      9\u001b[0m \u001b[39mfrom\u001b[39;00m \u001b[39m.\u001b[39;00m\u001b[39m.\u001b[39;00m\u001b[39moptical_flow\u001b[39;00m\u001b[39m.\u001b[39;00m\u001b[39mSPyNet\u001b[39;00m \u001b[39mimport\u001b[39;00m SPyNet, get_spynet\n\u001b[1;32m     10\u001b[0m \u001b[39mfrom\u001b[39;00m \u001b[39m.\u001b[39;00m\u001b[39mmodules\u001b[39;00m \u001b[39mimport\u001b[39;00m PixelShuffle,ResidualBlocksWithInputConv,flow_warp, constant_init\n",
      "\u001b[0;31mModuleNotFoundError\u001b[0m: No module named 'mmcv'"
     ]
    }
   ],
   "source": [
    "import logging\n",
    "from torch.utils.data import DataLoader, random_split\n",
    "import torch\n",
    "import numpy as np\n",
    "import torch\n",
    "from torch import nn\n",
    "from torch.utils.data import DataLoader\n",
    "from torch.autograd import Variable\n",
    "\n",
    "import os\n",
    "import sys\n",
    "\n",
    "sys.path.append('/Users/vchester/Documents/school/MBAn/6.8300/6.8300-Computer-Vision/src')\n",
    "\n",
    "from data_handlers.loading import VideoDataset\n",
    "from models import iconVSR\n",
    "\n",
    "device = torch.device(\"cuda\" if torch.cuda.is_available() else \"cpu\")\n",
    "\n",
    "logging.info(\"Starting main training script\")\n",
    "\n",
    "logging.info(\"Loading test data\")\n",
    "\n",
    "test_dataset = VideoDataset(\n",
    "    lr_data_dir='data/processed/train/train_sharp_bicubic/X4',\n",
    "    hr_data_dir='data/processed/train/train_sharp',\n",
    "    rolling_window=5,\n",
    "    is_test=True,\n",
    "    skip_frames=1\n",
    ")\n",
    "\n",
    "logging.debug(f\"Creating train and test dataloaders\")\n",
    "\n",
    "test_loader = DataLoader(test_dataset, batch_size=16, shuffle=False, num_workers=4)\n",
    "model = iconVSR(\n",
    "    spynet_pretrained='checkpoints/spynet_20210409-c6c1bd09.pth',\n",
    "    pretrained_model='',\n",
    "    reset_spynet=False,\n",
    "    optical_flow_module='SPYNET',\n",
    ").to(device)\n",
    "criterion_mse = nn.MSELoss().to(device)\n",
    "max_epoch = 1\n",
    "model.eval()\n",
    "\n",
    "# os.makedirs(f'{config[\"result_dir\"]}/models', exist_ok=True)\n",
    "# os.makedirs(f'{config[\"result_dir\"]}/images', exist_ok=True)\n",
    "\n",
    "logging.info(\"Starting testing\")\n",
    "\n",
    "\n",
    "for idx, data in enumerate(test_loader):\n",
    "    gt_sequences, lq_sequences = Variable(data[1]), Variable(data[0])\n",
    "    gt_sequences = gt_sequences.to(device)\n",
    "    lq_sequences = lq_sequences.to(device)\n",
    "    pred_sequences = model(lq_sequences)\n"
   ]
  },
  {
   "cell_type": "code",
   "execution_count": null,
   "metadata": {},
   "outputs": [],
   "source": []
  }
 ],
 "metadata": {
  "kernelspec": {
   "display_name": "vision",
   "language": "python",
   "name": "python3"
  },
  "language_info": {
   "codemirror_mode": {
    "name": "ipython",
    "version": 3
   },
   "file_extension": ".py",
   "mimetype": "text/x-python",
   "name": "python",
   "nbconvert_exporter": "python",
   "pygments_lexer": "ipython3",
   "version": "3.8.16"
  },
  "orig_nbformat": 4
 },
 "nbformat": 4,
 "nbformat_minor": 2
}
