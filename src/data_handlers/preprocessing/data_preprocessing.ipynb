{
 "cells": [
  {
   "attachments": {},
   "cell_type": "markdown",
   "metadata": {},
   "source": [
    "# Notebook for data preprocessing"
   ]
  },
  {
   "cell_type": "code",
   "execution_count": 10,
   "metadata": {},
   "outputs": [],
   "source": [
    "# load the video data\n",
    "\n",
    "import os\n",
    "import numpy as np\n",
    "import pandas as pd\n",
    "import matplotlib.pyplot as plt\n",
    "import cv2\n",
    "import pickle\n",
    "\n",
    "import torch\n",
    "import torchvision.transforms.functional as TF\n",
    "import cv2\n",
    "from tqdm import tqdm\n",
    "\n"
   ]
  },
  {
   "cell_type": "code",
   "execution_count": 11,
   "metadata": {},
   "outputs": [
    {
     "name": "stderr",
     "output_type": "stream",
     "text": [
      "100%|██████████| 15/15 [01:07<00:00,  4.51s/it]\n"
     ]
    }
   ],
   "source": [
    "#I downloaded the REDS data for video superresolution I want to crop a 512 512 video in the middle of each frame n python, how can I do it\n",
    "\n",
    "raw_data_folder = '../../../data/raw/train_orig'\n",
    "\n",
    "def process_video(video_folder):\n",
    "    # load the video (all the frames contained in the folder) read only one frame every 4\n",
    "    video = []\n",
    "    for i, img_name in enumerate(sorted(os.listdir(video_folder))):\n",
    "        if i % 4 == 0:\n",
    "            img = cv2.imread(os.path.join(video_folder, img_name))\n",
    "            video.append(img)\n",
    "\n",
    "    # image dimensions\n",
    "    height, width, layers = video[0].shape\n",
    "\n",
    "    # crop\n",
    "    crop_size = 512\n",
    "\n",
    "    # Define the crop coordinates\n",
    "    crop_x = int((width - crop_size) / 2)\n",
    "    crop_y = int((height - crop_size) / 2)\n",
    "\n",
    "    # Crop the image\n",
    "    cropped_video = [img[crop_y:crop_y+crop_size, crop_x:crop_x+crop_size] for img in video]\n",
    "\n",
    "\n",
    "    # save the cropped video as a succession of images\n",
    "    saving_path = os.path.join(video_folder.replace('raw/train_orig', 'processed'))\n",
    "    os.makedirs(saving_path, exist_ok=True)\n",
    "    for i, img in enumerate(cropped_video):\n",
    "        cv2.imwrite(os.path.join(saving_path, 'frame_{}.png'.format(i)), img)\n",
    "\n",
    "# iterate over all the videos with fancy progress bar\n",
    "for video_folder in tqdm(sorted(os.listdir(raw_data_folder))):\n",
    "    process_video(os.path.join(raw_data_folder, video_folder))\n",
    "\n",
    "\n",
    "# save the cropped video as a video\n",
    "#fourcc = cv2.VideoWriter_fourcc(*'XVID')\n",
    "#out = cv2.VideoWriter(os.path.join(saving_path, 'video.avi'), fourcc, 25.0, (crop_size, crop_size))\n",
    "#for img in cropped_video:\n",
    "#    out.write(img)\n",
    "#out.release()\n",
    "\n"
   ]
  },
  {
   "attachments": {},
   "cell_type": "markdown",
   "metadata": {},
   "source": [
    "#### To generate the original video with the raw data"
   ]
  },
  {
   "cell_type": "code",
   "execution_count": 8,
   "metadata": {},
   "outputs": [],
   "source": [
    "# do a video with the original raw data\n",
    "fourcc = cv2.VideoWriter_fourcc(*'XVID')\n",
    "out = cv2.VideoWriter(os.path.join(video_folder.replace('raw/train_orig', 'processed'), 'video_raw.avi'), fourcc, 25.0, (width, height))\n",
    "\n",
    "video_full = []\n",
    "for i, img_name in enumerate(sorted(os.listdir(video_folder))):\n",
    "    if i % 1 == 0:\n",
    "        img = cv2.imread(os.path.join(video_folder, img_name))\n",
    "        video_full.append(img)\n",
    "        \n",
    "for img in video_full:\n",
    "    out.write(img)\n",
    "out.release()\n"
   ]
  }
 ],
 "metadata": {
  "kernelspec": {
   "display_name": "computer_vision",
   "language": "python",
   "name": "python3"
  },
  "language_info": {
   "codemirror_mode": {
    "name": "ipython",
    "version": 3
   },
   "file_extension": ".py",
   "mimetype": "text/x-python",
   "name": "python",
   "nbconvert_exporter": "python",
   "pygments_lexer": "ipython3",
   "version": "3.9.16"
  },
  "orig_nbformat": 4
 },
 "nbformat": 4,
 "nbformat_minor": 2
}
